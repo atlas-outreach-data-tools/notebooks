{
 "cells": [
  {
   "cell_type": "markdown",
   "metadata": {},
   "source": [
    "<CENTER>\n",
    "    <a href=\"http://opendata.atlas.cern\" class=\"icons\"><img src=\"http://opendata.atlas.cern/DataAndTools/pictures/opendata-top-transblack.png\" style=\"width:40%\"></a>\n",
    "</CENTER>"
   ]
  },
  {
   "cell_type": "markdown",
   "metadata": {},
   "source": [
    "# A more difficult notebook in C++\n",
    "\n",
    "### In this notebook you can find a more difficult program that shows further high energy physics (HEP) analysis techniques.\n",
    "\n",
    "##### The following analysis is searching for events where [Z bosons](https://en.wikipedia.org/wiki/W_and_Z_bosons) decay to two leptons of same flavour and opposite charge (to be seen for example in the [Feynman diagram](https://en.wikipedia.org/wiki/Feynman_diagram))."
   ]
  },
  {
   "cell_type": "markdown",
   "metadata": {},
   "source": [
    "<CENTER><img src=\"../images/Z_ElectronPositron.png\" style=\"width:40%\"></CENTER>"
   ]
  },
  {
   "cell_type": "markdown",
   "metadata": {},
   "source": [
    "At first we have to include several helpers that will support our analysis."
   ]
  },
  {
   "cell_type": "code",
   "execution_count": 1,
   "metadata": {
    "collapsed": true
   },
   "outputs": [],
   "source": [
    "#include <iostream>\n",
    "#include <string>\n",
    "#include <stdio.h>"
   ]
  },
  {
   "cell_type": "markdown",
   "metadata": {},
   "source": [
    "In order to activate the interactive visualisation of the histogram that is later created we can use the JSROOT magic:"
   ]
  },
  {
   "cell_type": "code",
   "execution_count": 2,
   "metadata": {
    "collapsed": true
   },
   "outputs": [],
   "source": [
    "//%jsroot on"
   ]
  },
  {
   "cell_type": "markdown",
   "metadata": {},
   "source": [
    "Next we have to open the data that we want to analyze. It is stored in a _*.root_ file. By creating a _TChain_ it is possible to add more datasets and accordingly analyze more data."
   ]
  },
  {
   "cell_type": "code",
   "execution_count": 3,
   "metadata": {
    "collapsed": true
   },
   "outputs": [],
   "source": [
    "TChain *dataset = new TChain(\"mini\");"
   ]
  },
  {
   "cell_type": "markdown",
   "metadata": {},
   "source": [
    "This following input is read directly from the same storage - so it is faster. If you want to you can comment in the last line to read it from the internet."
   ]
  },
  {
   "cell_type": "code",
   "execution_count": 4,
   "metadata": {
    "collapsed": true
   },
   "outputs": [],
   "source": [
    "//dataset->Add(\"/home/student/datasets/MC/mc_105986.ZZ.root\");\n",
    "dataset->Add(\"http://opendata.atlas.cern/release/samples/MC/mc_147770.Zee.root\");"
   ]
  },
  {
   "cell_type": "markdown",
   "metadata": {},
   "source": [
    "We now declare some variables that are later used in the analysis."
   ]
  },
  {
   "cell_type": "code",
   "execution_count": 5,
   "metadata": {
    "collapsed": true
   },
   "outputs": [],
   "source": [
    "const int vs = 5;\n",
    "\n",
    "Int_t   lepton_n = -1,\n",
    "        lepton_charge[vs], //electrical charge of the lepton\n",
    "        lepton_type[vs];   //flavour of the lepton\n",
    "\n",
    "Float_t lepton_pt[vs],\n",
    "        lepton_eta[vs],\n",
    "        lepton_phi[vs],\n",
    "        lepton_E[vs];"
   ]
  },
  {
   "cell_type": "markdown",
   "metadata": {},
   "source": [
    "After we declared these variables we have to say the program where it can find the values for the variables."
   ]
  },
  {
   "cell_type": "code",
   "execution_count": 6,
   "metadata": {
    "collapsed": true
   },
   "outputs": [],
   "source": [
    "dataset->SetBranchAddress(\"lep_n\",      &lepton_n);\n",
    "dataset->SetBranchAddress(\"lep_charge\", &lepton_charge);\n",
    "dataset->SetBranchAddress(\"lep_type\",   &lepton_type);\n",
    "dataset->SetBranchAddress(\"lep_pt\",     &lepton_pt);\n",
    "dataset->SetBranchAddress(\"lep_eta\",    &lepton_eta);\n",
    "dataset->SetBranchAddress(\"lep_phi\",    &lepton_phi);\n",
    "dataset->SetBranchAddress(\"lep_E\",      &lepton_E);"
   ]
  },
  {
   "cell_type": "markdown",
   "metadata": {},
   "source": [
    "Now we will create a histogram specifying its title and axes titles. Moreover we define that it consists of 30 so called bins which have a range from 40 to 140. Additionaly we set the colour of the integral blue."
   ]
  },
  {
   "cell_type": "code",
   "execution_count": 7,
   "metadata": {
    "collapsed": true
   },
   "outputs": [],
   "source": [
    "TH1F *hist = new TH1F(\"variable\",\"Mass of the Z boson; mass [GeV]; events\",30,40,140);\n",
    "hist->SetFillColor(kBlue);"
   ]
  },
  {
   "cell_type": "markdown",
   "metadata": {},
   "source": [
    "In the following lines we can say how much data we want to analyze and we also ask some informations about the analysis itself. The results are given out under the box."
   ]
  },
  {
   "cell_type": "code",
   "execution_count": 8,
   "metadata": {
    "collapsed": false
   },
   "outputs": [
    {
     "name": "stdout",
     "output_type": "stream",
     "text": [
      "Total # events = 0. Events to run = 0 corresponding to 100% of total events!\r\n"
     ]
    },
    {
     "name": "stderr",
     "output_type": "stream",
     "text": [
      "Error in <TFile::TFile>: file /home/student/datasets/MC/mc_105986.ZZ.root does not exist\r\n"
     ]
    }
   ],
   "source": [
    "int nentries, nbytes, i;\n",
    "nentries = (Int_t)dataset->GetEntries();\n",
    "\n",
    "// IMPORTANT: fraction events we want to run\n",
    "fraction_events = 1;\n",
    "events_to_run = nentries*fraction_events;\n",
    "\n",
    "std::cout << \"Total # events = \"  << nentries\n",
    "          << \". Events to run = \" << events_to_run\n",
    "          << \" corresponding to \" << fraction_events*100\n",
    "          << \"% of total events!\" << std::endl;"
   ]
  },
  {
   "cell_type": "markdown",
   "metadata": {},
   "source": [
    "Time to fill our above defined histogram. At first we define some variables and then we loop over the data. We also make some cuts as you can see in the // _comments_."
   ]
  },
  {
   "cell_type": "code",
   "execution_count": 9,
   "metadata": {
    "collapsed": true
   },
   "outputs": [],
   "source": [
    "TLorentzVector l1;         \n",
    "                TLorentzVector l2;  \n",
    "                               TLorentzVector invmass;  \n",
    "\n",
    "for (i = 0; i < nentries; i++)\n",
    "{\n",
    "    nbytes = dataset->GetEntry(i);\n",
    "    \n",
    "    // Cut #1: At least 2 leptons\n",
    "    if(lepton_n == 2)\n",
    "    {\n",
    "        // Cut #2: Leptons with opposite charge\n",
    "        if(lepton_charge[0] != lepton_charge[1])\n",
    "        {\n",
    "            // Cut #3: Leptons of the same family (2 electrons or 2 muons)\n",
    "            if(lepton_type[0] == lepton_type[1])\n",
    "            {\n",
    "                l1.SetPtEtaPhiE(lepton_pt[0]/1000., lepton_eta[0], lepton_phi[0], lepton_E[0]/1000.);\n",
    "                l2.SetPtEtaPhiE(lepton_pt[1]/1000., lepton_eta[1], lepton_phi[1], lepton_E[1]/1000.);\n",
    "                // The default value in the root file is in MeV, so, we divide by 1000 to get it in GeV\n",
    "                invmass = l1 + l2;\n",
    "                hist->Fill(invmass.M());\n",
    "            }\n",
    "        }\n",
    "    }\n",
    "}"
   ]
  },
  {
   "cell_type": "markdown",
   "metadata": {},
   "source": [
    "We now want to see our results. At first we will create a canvas, the entity which in ROOT holds graphics primitives. Then we draw the histogram on the canvas and after that the canvas on which the histogram lies. Once the histogram is created you can zoom in and out because it is interactive. "
   ]
  },
  {
   "cell_type": "code",
   "execution_count": 10,
   "metadata": {
    "collapsed": false
   },
   "outputs": [
    {
     "data": {
      "image/png": "[encoded data removed]",
      "text/plain": [
       "<IPython.core.display.Image object>"
      ]
     },
     "metadata": {},
     "output_type": "display_data"
    }
   ],
   "source": [
    "TCanvas *canvas = new TCanvas(\"c\",\"c\",10,10,700,700);\n",
    "hist->Draw();\n",
    "canvas->Draw();"
   ]
  }
 ],
 "metadata": {
  "kernelspec": {
   "display_name": "ROOT Prompt",
   "language": "c++",
   "name": "root"
  },
  "language_info": {
   "codemirror_mode": {
    "name": "ipython",
    "version": 2
   },
   "file_extension": ".py",
   "mimetype": "text/x-python",
   "name": "python",
   "nbconvert_exporter": "python",
   "pygments_lexer": "ipython2",
   "version": "2.7.9"
  }
 },
 "nbformat": 4,
 "nbformat_minor": 2
}
