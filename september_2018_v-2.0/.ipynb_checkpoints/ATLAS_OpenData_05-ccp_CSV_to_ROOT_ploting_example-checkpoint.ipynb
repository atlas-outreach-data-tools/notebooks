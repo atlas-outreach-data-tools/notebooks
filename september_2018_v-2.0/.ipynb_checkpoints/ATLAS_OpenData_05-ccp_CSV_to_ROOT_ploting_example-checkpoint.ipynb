{
 "cells": [
  {
   "cell_type": "markdown",
   "metadata": {},
   "source": [
    "<CENTER><img src=\"../images/opendata-top-transblack.png\" style=\"width:40%\"></CENTER>"
   ]
  },
  {
   "cell_type": "markdown",
   "metadata": {},
   "source": [
    "<CENTER><h1>Simple CVS to ROOT C++ notebook example</h1></CENTER>"
   ]
  },
  {
   "cell_type": "code",
   "execution_count": null,
   "metadata": {
    "collapsed": false
   },
   "outputs": [],
   "source": [
    "//%jsroot on"
   ]
  },
  {
   "cell_type": "code",
   "execution_count": null,
   "metadata": {
    "collapsed": true
   },
   "outputs": [],
   "source": [
    "#include \"Riostream.h\"\n",
    "#include \"TString.h\"\n",
    "#include \"TFile.h\"\n",
    "#include \"TTree.h\"\n",
    "#include \"TSystem.h\"\n",
    "#include <stdio.h>\n",
    "#include <stdlib.h>"
   ]
  },
  {
   "cell_type": "code",
   "execution_count": null,
   "metadata": {
    "collapsed": false
   },
   "outputs": [],
   "source": [
    "//This two lines can be commented out. You just need it once, and in case the CVS file was not provided already\n",
    "system(\"rm outreach.csv\");\n",
    "system(\"wget http://opendata.atlas.cern/visualisations/CrossFilter/outreach.csv\");\n",
    "\n",
    "//If the file is downloaded with the line above, you *need* to remove the first line of the outreach.csv"
   ]
  },
  {
   "cell_type": "code",
   "execution_count": null,
   "metadata": {
    "collapsed": true
   },
   "outputs": [],
   "source": [
    "TString dir = gSystem->UnixPathName(__FILE__);\n",
    "dir.ReplaceAll(\"outreach.C\",\"\");\n",
    "dir.ReplaceAll(\"/./\",\"/\");\n",
    "\n",
    "TFile *f = new TFile(\"outreach.root\",\"RECREATE\");"
   ]
  },
  {
   "cell_type": "code",
   "execution_count": null,
   "metadata": {
    "collapsed": false
   },
   "outputs": [],
   "source": [
    "TTree *tree = new TTree(\"ntuple\",\"data from csv file\");\n",
    "// The file inside has ---->   type,  Channel,  NJets,  MET,  Mll,  LepDeltaPhi,  METLLDeltaPhi,  SumLepPt,  BTags,  weight\n",
    "// N.B. Red box below means: it could not recognize the first line in String type, so the compiler just ignores it.\n",
    "tree->ReadFile(\"outreach.csv\",\"type/I:Channel/I:NJets/I:MET/F:Mll/F:LepDeltaPhi/F:METLLDeltaPhi/F:SumLepPt/F:BTags/F:weight/F\",',');\n",
    "f->Write();"
   ]
  },
  {
   "cell_type": "markdown",
   "metadata": {},
   "source": [
    "note that the line above generates a warning. This is because the first line of our CSV file contains the name of the colunms, but this is safely ignored by ROOT."
   ]
  },
  {
   "cell_type": "code",
   "execution_count": null,
   "metadata": {
    "collapsed": false
   },
   "outputs": [],
   "source": [
    "system(\"ls -lhrt outreach.*\");"
   ]
  },
  {
   "cell_type": "markdown",
   "metadata": {},
   "source": [
    "Note in the output of the line above that the resulting ROOT files is ~35% of the size of the original SV file. This is another advantage of the ROOT format for this kind of datasets."
   ]
  },
  {
   "cell_type": "code",
   "execution_count": null,
   "metadata": {
    "collapsed": true
   },
   "outputs": [],
   "source": [
    "TFile *_file0 = TFile::Open(\"outreach.root\");"
   ]
  },
  {
   "cell_type": "code",
   "execution_count": null,
   "metadata": {
    "collapsed": false
   },
   "outputs": [],
   "source": [
    "TCanvas *c3D = new TCanvas(\"c3D\",\"c3D\",10,10,400,400);\n",
    "ntuple->Draw(\"MET:Mll:LepDeltaPhi\",\"MET>0.\");\n",
    "c3D->Draw();"
   ]
  },
  {
   "cell_type": "code",
   "execution_count": null,
   "metadata": {
    "collapsed": true
   },
   "outputs": [],
   "source": [
    "TCanvas *cz = new TCanvas(\"cz\",\"cz\",10,10,400,400);\n",
    "ntuple->Draw(\"Mll:MET\",\"weight>-999\",\"colz\");"
   ]
  },
  {
   "cell_type": "code",
   "execution_count": null,
   "metadata": {
    "collapsed": false
   },
   "outputs": [],
   "source": [
    "cz->Draw();"
   ]
  },
  {
   "cell_type": "code",
   "execution_count": null,
   "metadata": {
    "collapsed": false
   },
   "outputs": [],
   "source": [
    "TCanvas *c2D = new TCanvas(\"c2D\",\"c2D\",10,10,400,400);\n",
    "ntuple->Draw(\"Mll:LepDeltaPhi\",\"MET>0.\",\"colz\");\n",
    "c2D->Draw();"
   ]
  },
  {
   "cell_type": "markdown",
   "metadata": {
    "collapsed": true
   },
   "source": [
    "Below you can try to create a more complex analysis, following what is done in the next notebooks examples in this repository."
   ]
  },
  {
   "cell_type": "code",
   "execution_count": null,
   "metadata": {
    "collapsed": true
   },
   "outputs": [],
   "source": []
  },
  {
   "cell_type": "code",
   "execution_count": null,
   "metadata": {
    "collapsed": true
   },
   "outputs": [],
   "source": []
  }
 ],
 "metadata": {
  "kernelspec": {
   "display_name": "ROOT Prompt",
   "language": "c++",
   "name": "root"
  },
  "language_info": {
   "codemirror_mode": {
    "name": "ipython",
    "version": 2
   },
   "file_extension": ".py",
   "mimetype": "text/x-python",
   "name": "python",
   "nbconvert_exporter": "python",
   "pygments_lexer": "ipython2",
   "version": "2.7.9"
  }
 },
 "nbformat": 4,
 "nbformat_minor": 1
}
